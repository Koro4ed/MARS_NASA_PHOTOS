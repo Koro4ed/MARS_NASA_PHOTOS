{
  "nbformat": 4,
  "nbformat_minor": 0,
  "metadata": {
    "colab": {
      "provenance": []
    },
    "kernelspec": {
      "name": "python3",
      "display_name": "Python 3"
    },
    "language_info": {
      "name": "python"
    }
  },
  "cells": [
    {
      "cell_type": "code",
      "source": [
        "import random"
      ],
      "metadata": {
        "id": "BBNCws8RA86m"
      },
      "execution_count": 2,
      "outputs": []
    },
    {
      "cell_type": "code",
      "execution_count": 6,
      "metadata": {
        "colab": {
          "base_uri": "https://localhost:8080/"
        },
        "id": "KynSU9faAwYq",
        "outputId": "5f1c6d6c-7b04-411d-eab0-5ed3361def13"
      },
      "outputs": [
        {
          "output_type": "stream",
          "name": "stdout",
          "text": [
            "Фотография: https://mars.nasa.gov/msl-raw-images/proj/msl/redops/ods/surface/sol/02851/opgs/edr/ncam/NLB_650603658EDR_F0822176NCAM00207M_.JPG\n",
            "Дата съемки: 2020-08-13\n",
            "Марсоход: Curiosity\n",
            "\n",
            "Фотография: https://mars.nasa.gov/msl-raw-images/msss/02851/mhli/2851MH0005530001003284I01_DXXX.jpg\n",
            "Дата съемки: 2020-08-13\n",
            "Марсоход: Curiosity\n",
            "\n",
            "Фотография: https://mars.nasa.gov/msl-raw-images/msss/02851/mhli/2851MH0001970011003283I01_DXXX.jpg\n",
            "Дата съемки: 2020-08-13\n",
            "Марсоход: Curiosity\n",
            "\n",
            "Произошла ошибка при выполнении запроса к API NASA.\n",
            "Код ошибки: 200\n"
          ]
        }
      ],
      "source": [
        "import requests\n",
        "api_key = \"bGbDb283trgzQINGWSJ0c65DdiIJtR7cV0TOqkaT\"\n",
        "# Формируем URL для запроса\n",
        "url = f\"https://api.nasa.gov/mars-photos/api/v1/rovers/curiosity/photos?earth_date=2020-8-13&api_key={api_key}\"\n",
        "\n",
        "# Отправляем GET-запрос к API NASA\n",
        "response = requests.get(url)\n",
        "\n",
        "# Проверяем успешность запроса\n",
        "if response.status_code == 200:\n",
        "  # Получаем список фотографий\n",
        "  photos = response.json()[\"photos\"]\n",
        "  # Выводим три случайных снимка\n",
        "  for i in range(3):\n",
        "    photo = random.choice(photos)\n",
        "    print(\"Фотография:\", photo[\"img_src\"])\n",
        "    print(\"Дата съемки:\", photo[\"earth_date\"])\n",
        "    print(\"Марсоход:\", photo[\"rover\"][\"name\"])\n",
        "    print()\n",
        "  else:\n",
        "    print(\"Произошла ошибка при выполнении запроса к API NASA.\")\n",
        "    print(\"Код ошибки:\", response.status_code)"
      ]
    }
  ]
}